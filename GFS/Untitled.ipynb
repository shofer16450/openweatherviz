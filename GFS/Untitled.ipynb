{
 "cells": [
  {
   "cell_type": "code",
   "execution_count": 1,
   "metadata": {},
   "outputs": [
    {
     "name": "stdout",
     "output_type": "stream",
     "text": [
      "{'OPENDAP': 'http://atm.ucar.edu/thredds/dodsC/grib/NCEP/GFS/Global_0p25deg/Best', 'WCS': 'http://atm.ucar.edu/thredds/wcs/grib/NCEP/GFS/Global_0p25deg/Best', 'WMS': 'http://atm.ucar.edu/thredds/wms/grib/NCEP/GFS/Global_0p25deg/Best', 'NetcdfSubset': 'http://atm.ucar.edu/thredds/ncss/grib/NCEP/GFS/Global_0p25deg/Best', 'CdmRemote': 'http://atm.ucar.edu/thredds/cdmremote/grib/NCEP/GFS/Global_0p25deg/Best', 'NCML': 'http://atm.ucar.edu/thredds/ncml/grib/NCEP/GFS/Global_0p25deg/Best', 'UDDC': 'http://atm.ucar.edu/thredds/uddc/grib/NCEP/GFS/Global_0p25deg/Best', 'ISO': 'http://atm.ucar.edu/thredds/iso/grib/NCEP/GFS/Global_0p25deg/Best'}\n",
      "['Temperature_surface', 'reftime', 'time', 'lat', 'lon', 'u-component_of_wind_isobaric', 'isobaric', 'Wind_speed_gust_surface', 'Geopotential_height_isobaric', 'v-component_of_wind_isobaric', 'Relative_humidity_entire_atmosphere_single_layer']\n"
     ]
    }
   ],
   "source": [
    "from datetime import datetime, timedelta\n",
    "\n",
    "import cartopy.crs as ccrs\n",
    "import cartopy.util as cutil\n",
    "import cartopy.feature as cfeat\n",
    "import matplotlib.pyplot as plt\n",
    "from metpy.units import units\n",
    "import metpy.calc as mpcalc\n",
    "from netCDF4 import num2date\n",
    "import numpy as np\n",
    "from siphon.catalog import TDSCatalog\n",
    "from siphon.ncss import NCSS\n",
    "import scipy.ndimage as ndimage\n",
    "\n",
    "gfs = TDSCatalog('http://atm.ucar.edu/thredds/catalog/grib/'\n",
    "                 'NCEP/GFS/Global_0p25deg/catalog.xml')\n",
    "\n",
    "dataset = list(gfs.datasets.values())[1]\n",
    "print(dataset.access_urls)\n",
    "\n",
    "# Create NCSS object to access the NetcdfSubset\n",
    "ncss = NCSS(dataset.access_urls['NetcdfSubset'])\n",
    "\n",
    "# get current date and time\n",
    "now = datetime.utcnow()\n",
    "now = datetime(now.year, now.month, now.day, now.hour)\n",
    "\n",
    "# define time range you want the data for\n",
    "start = now\n",
    "end = now + timedelta(hours=12)\n",
    "\n",
    "query = ncss.query()\n",
    "query.time_range(start, end)\n",
    "# query.lonlat_box(north=70, south=20, east=310., west=230.)\n",
    "query.accept('netcdf4')\n",
    "query.variables('Temperature_surface', 'Relative_humidity_entire_atmosphere_single_layer',\n",
    "                'Wind_speed_gust_surface', 'u-component_of_wind_isobaric',\n",
    "                'v-component_of_wind_isobaric', 'Geopotential_height_isobaric')\n",
    "\n",
    "\n",
    "# Helper function for finding proper time variable\n",
    "def find_time_var(var, time_basename='time'):\n",
    "    for coord_name in var.coordinates.split():\n",
    "        if coord_name.startswith(time_basename):\n",
    "            return coord_name\n",
    "    raise ValueError('No time variable found for ' + var.name)\n",
    "\n",
    "\n",
    "# Request data for the variables you want to use\n",
    "data = ncss.get_data(query)\n",
    "print(list(data.variables))\n",
    "\n",
    "# Pull out the lat and lon data\n",
    "lat = data.variables['lat'][:]\n",
    "lon = data.variables['lon'][:]\n",
    "lon[lon > 180] = lon[lon > 180] - 360\n",
    "\n",
    "# Get time into a datetime object\n",
    "time_var = data.variables[find_time_var(data.variables['Temperature_surface'])]\n",
    "time_var = num2date(time_var[:], time_var.units).tolist()\n",
    "time_strings = [t.strftime('%m/%d %H:%M') for t in time_var]"
   ]
  },
  {
   "cell_type": "code",
   "execution_count": 3,
   "metadata": {},
   "outputs": [
    {
     "data": {
      "text/plain": [
       "['09/22 15:00', '09/22 18:00', '09/22 21:00', '09/23 00:00']"
      ]
     },
     "execution_count": 3,
     "metadata": {},
     "output_type": "execute_result"
    }
   ],
   "source": [
    "time_strings"
   ]
  },
  {
   "cell_type": "code",
   "execution_count": 7,
   "metadata": {},
   "outputs": [
    {
     "name": "stderr",
     "output_type": "stream",
     "text": [
      "/home/sh16450/anaconda3/envs/newenv/lib/python3.6/site-packages/metpy/calc/basic.py:736: UserWarning: Input over 1.5707963267948966 radians. Ensure proper units are given.\n",
      "  'Ensure proper units are given.'.format(max_radians))\n"
     ]
    },
    {
     "ename": "DimensionalityError",
     "evalue": "Cannot convert from '1 / meter' (1 / [length]) to '1 / second' (1 / [time])",
     "output_type": "error",
     "traceback": [
      "\u001b[0;31m---------------------------------------------------------------------------\u001b[0m",
      "\u001b[0;31mDimensionalityError\u001b[0m                       Traceback (most recent call last)",
      "\u001b[0;32m<ipython-input-7-26b038e434fb>\u001b[0m in \u001b[0;36m<module>\u001b[0;34m()\u001b[0m\n\u001b[1;32m     53\u001b[0m \u001b[0mdx\u001b[0m\u001b[0;34m,\u001b[0m \u001b[0mdy\u001b[0m \u001b[0;34m=\u001b[0m \u001b[0mmpcalc\u001b[0m\u001b[0;34m.\u001b[0m\u001b[0mlat_lon_grid_deltas\u001b[0m\u001b[0;34m(\u001b[0m\u001b[0mlon\u001b[0m\u001b[0;34m,\u001b[0m \u001b[0mlat\u001b[0m\u001b[0;34m)\u001b[0m\u001b[0;34m\u001b[0m\u001b[0m\n\u001b[1;32m     54\u001b[0m \u001b[0mf\u001b[0m \u001b[0;34m=\u001b[0m \u001b[0mmpcalc\u001b[0m\u001b[0;34m.\u001b[0m\u001b[0mcoriolis_parameter\u001b[0m\u001b[0;34m(\u001b[0m\u001b[0mnp\u001b[0m\u001b[0;34m.\u001b[0m\u001b[0mdeg2rad\u001b[0m\u001b[0;34m(\u001b[0m\u001b[0mlat\u001b[0m\u001b[0;34m)\u001b[0m\u001b[0;34m)\u001b[0m\u001b[0;34m.\u001b[0m\u001b[0mto\u001b[0m\u001b[0;34m(\u001b[0m\u001b[0munits\u001b[0m\u001b[0;34m(\u001b[0m\u001b[0;34m'1/sec'\u001b[0m\u001b[0;34m)\u001b[0m\u001b[0;34m)\u001b[0m\u001b[0;34m\u001b[0m\u001b[0m\n\u001b[0;32m---> 55\u001b[0;31m \u001b[0mavor\u001b[0m \u001b[0;34m=\u001b[0m \u001b[0mmpcalc\u001b[0m\u001b[0;34m.\u001b[0m\u001b[0mvorticity\u001b[0m\u001b[0;34m(\u001b[0m\u001b[0muwnd_500\u001b[0m\u001b[0;34m,\u001b[0m \u001b[0mvwnd_500\u001b[0m\u001b[0;34m,\u001b[0m \u001b[0mdx\u001b[0m\u001b[0;34m,\u001b[0m \u001b[0mdy\u001b[0m\u001b[0;34m,\u001b[0m \u001b[0mdim_order\u001b[0m\u001b[0;34m=\u001b[0m\u001b[0;34m'yx'\u001b[0m\u001b[0;34m)\u001b[0m \u001b[0;34m+\u001b[0m \u001b[0mf\u001b[0m\u001b[0;34m[\u001b[0m\u001b[0;34m:\u001b[0m\u001b[0;34m,\u001b[0m \u001b[0;32mNone\u001b[0m\u001b[0;34m]\u001b[0m\u001b[0;34m\u001b[0m\u001b[0m\n\u001b[0m\u001b[1;32m     56\u001b[0m \u001b[0;31m# avor = ndimage.gaussian_filter(avor, sigma=3, order=0) * units('1/s')\u001b[0m\u001b[0;34m\u001b[0m\u001b[0;34m\u001b[0m\u001b[0m\n\u001b[1;32m     57\u001b[0m \u001b[0mvort_adv\u001b[0m \u001b[0;34m=\u001b[0m \u001b[0mmpcalc\u001b[0m\u001b[0;34m.\u001b[0m\u001b[0madvection\u001b[0m\u001b[0;34m(\u001b[0m\u001b[0mavor\u001b[0m\u001b[0;34m,\u001b[0m \u001b[0;34m[\u001b[0m\u001b[0muwnd_500\u001b[0m\u001b[0;34m,\u001b[0m \u001b[0mvwnd_500\u001b[0m\u001b[0;34m]\u001b[0m\u001b[0;34m,\u001b[0m \u001b[0;34m(\u001b[0m\u001b[0mdx\u001b[0m\u001b[0;34m,\u001b[0m \u001b[0mdy\u001b[0m\u001b[0;34m)\u001b[0m\u001b[0;34m,\u001b[0m \u001b[0mdim_order\u001b[0m\u001b[0;34m=\u001b[0m\u001b[0;34m'yx'\u001b[0m\u001b[0;34m)\u001b[0m \u001b[0;34m*\u001b[0m \u001b[0;36m1e9\u001b[0m\u001b[0;34m\u001b[0m\u001b[0m\n",
      "\u001b[0;32m~/anaconda3/envs/newenv/lib/python3.6/site-packages/pint/quantity.py\u001b[0m in \u001b[0;36m__add__\u001b[0;34m(self, other)\u001b[0m\n\u001b[1;32m    667\u001b[0m             \u001b[0;32mreturn\u001b[0m \u001b[0mself\u001b[0m\u001b[0;34m.\u001b[0m\u001b[0mto_timedelta\u001b[0m\u001b[0;34m(\u001b[0m\u001b[0;34m)\u001b[0m \u001b[0;34m+\u001b[0m \u001b[0mother\u001b[0m\u001b[0;34m\u001b[0m\u001b[0m\n\u001b[1;32m    668\u001b[0m         \u001b[0;32melse\u001b[0m\u001b[0;34m:\u001b[0m\u001b[0;34m\u001b[0m\u001b[0m\n\u001b[0;32m--> 669\u001b[0;31m             \u001b[0;32mreturn\u001b[0m \u001b[0mself\u001b[0m\u001b[0;34m.\u001b[0m\u001b[0m_add_sub\u001b[0m\u001b[0;34m(\u001b[0m\u001b[0mother\u001b[0m\u001b[0;34m,\u001b[0m \u001b[0moperator\u001b[0m\u001b[0;34m.\u001b[0m\u001b[0madd\u001b[0m\u001b[0;34m)\u001b[0m\u001b[0;34m\u001b[0m\u001b[0m\n\u001b[0m\u001b[1;32m    670\u001b[0m \u001b[0;34m\u001b[0m\u001b[0m\n\u001b[1;32m    671\u001b[0m     \u001b[0m__radd__\u001b[0m \u001b[0;34m=\u001b[0m \u001b[0m__add__\u001b[0m\u001b[0;34m\u001b[0m\u001b[0m\n",
      "\u001b[0;32m~/anaconda3/envs/newenv/lib/python3.6/site-packages/pint/quantity.py\u001b[0m in \u001b[0;36m_add_sub\u001b[0;34m(self, other, op)\u001b[0m\n\u001b[1;32m    584\u001b[0m             raise DimensionalityError(self._units, other._units,\n\u001b[1;32m    585\u001b[0m                                       \u001b[0mself\u001b[0m\u001b[0;34m.\u001b[0m\u001b[0mdimensionality\u001b[0m\u001b[0;34m,\u001b[0m\u001b[0;34m\u001b[0m\u001b[0m\n\u001b[0;32m--> 586\u001b[0;31m                                       other.dimensionality)\n\u001b[0m\u001b[1;32m    587\u001b[0m \u001b[0;34m\u001b[0m\u001b[0m\n\u001b[1;32m    588\u001b[0m         \u001b[0;31m# Next we define some variables to make if-clauses more readable.\u001b[0m\u001b[0;34m\u001b[0m\u001b[0;34m\u001b[0m\u001b[0m\n",
      "\u001b[0;31mDimensionalityError\u001b[0m: Cannot convert from '1 / meter' (1 / [length]) to '1 / second' (1 / [time])"
     ]
    }
   ],
   "source": [
    "def plot(varname='', time=0, colormap='', lon=None, lat=None):\n",
    "    variable = data.variables[varname][:]\n",
    "    variable, lon_cyc = cutil.add_cyclic_point(variable, coord=lon)\n",
    "    # Combine 1D latitude and longitudes into a 2D grid of locations\n",
    "    lon_2d, lat_2d = np.meshgrid(lon_cyc, lat)\n",
    "\n",
    "    fig = plt.figure(figsize=(10, 8))\n",
    "    ax = fig.add_subplot(111, projection=ccrs.PlateCarree())\n",
    "    ax.set_extent([330., 30., 30., 70.])\n",
    "    title_str = 'GFS 12-Hour Forecast\\n' + varname\n",
    "    ax.set_title(title_str, size=16)\n",
    "\n",
    "    # Add state/country boundaries to plot\n",
    "    ax.add_feature(cfeat.BORDERS.with_scale('10m'))\n",
    "    ax.add_feature(cfeat.COASTLINE.with_scale('10m'), zorder=2, edgecolor='black')\n",
    "    # ax.add_feature(cfeat.OCEAN.with_scale('50m'), zorder=0)\n",
    "    # ax.add_feature(cfeat.STATES.with_scale('10m'), zorder=1, edgecolor='#5e819d')\n",
    "\n",
    "    if varname == 'Temperature_surface':\n",
    "        variable = (variable * units.kelvin).to('degC')\n",
    "\n",
    "    # Contour based on variable chosen\n",
    "    c = ax.contourf(lon_2d, lat_2d, variable[time_strings.index(time_strings[0])], cmap=colormap)\n",
    "    cb = fig.colorbar(c, ax=ax, shrink=0.7)\n",
    "\n",
    "    if varname == 'Temperature_surface':\n",
    "        cb.set_label(r'$^{o}F$', size='large')\n",
    "    if varname == 'Relative_humidity_entire_atmosphere_single_layer':\n",
    "        cb.set_label(r'$\\%$', size='large')\n",
    "    if varname == 'Wind_speed_gust_surface':\n",
    "        cb.set_label(r'$m/s$', size='large')\n",
    "\n",
    "\n",
    "# VORTICITY STUFF\n",
    "times = data.variables[data.variables['Geopotential_height_isobaric'].dimensions[0]]\n",
    "vtime = num2date(times[:], units=times.units)\n",
    "\n",
    "\n",
    "lev_500 = np.where(data.variables['isobaric'][:] == 50000)[0][0]\n",
    "\n",
    "hght_500 = data.variables['Geopotential_height_isobaric'][0, lev_500, :, :]\n",
    "# hght_500, lon_cyc = cutil.add_cyclic_point(hght_500, coord=lon)\n",
    "# hght_500 = ndimage.gaussian_filter(hght_500, sigma=3, order=0) * units.meter\n",
    "\n",
    "\n",
    "uwnd_500 = data.variables['u-component_of_wind_isobaric'][0, lev_500, :, :] * units('m/s')\n",
    "# uwnd_500, lon_cyc = cutil.add_cyclic_point(uwnd_500, coord=lon) * units('m/s')\n",
    "\n",
    "vwnd_500 = data.variables['v-component_of_wind_isobaric'][0, lev_500, :, :] * units('m/s')\n",
    "# vwnd_500, lon_cyc = cutil.add_cyclic_point(vwnd_500, coord=lon) * units('m/s')\n",
    "\n",
    "\n",
    "dx, dy = mpcalc.lat_lon_grid_deltas(lon, lat)\n",
    "f = mpcalc.coriolis_parameter(np.deg2rad(lat)).to(units('1/sec'))\n",
    "avor = mpcalc.vorticity(uwnd_500, vwnd_500, dx, dy, dim_order='yx') + f[:, None]\n",
    "# avor = ndimage.gaussian_filter(avor, sigma=3, order=0) * units('1/s')\n",
    "vort_adv = mpcalc.advection(avor, [uwnd_500, vwnd_500], (dx, dy), dim_order='yx') * 1e9"
   ]
  },
  {
   "cell_type": "code",
   "execution_count": null,
   "metadata": {},
   "outputs": [],
   "source": []
  }
 ],
 "metadata": {
  "kernelspec": {
   "display_name": "Python [conda env:newenv]",
   "language": "python",
   "name": "conda-env-newenv-py"
  },
  "language_info": {
   "codemirror_mode": {
    "name": "ipython",
    "version": 3
   },
   "file_extension": ".py",
   "mimetype": "text/x-python",
   "name": "python",
   "nbconvert_exporter": "python",
   "pygments_lexer": "ipython3",
   "version": "3.6.6"
  }
 },
 "nbformat": 4,
 "nbformat_minor": 2
}
